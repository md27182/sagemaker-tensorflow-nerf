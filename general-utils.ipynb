{
 "cells": [
  {
   "cell_type": "code",
   "execution_count": null,
   "metadata": {},
   "outputs": [],
   "source": [
    "# delete a non-empty folder\n",
    "import shutil\n",
    "folder_path = './SL2' # set this to the name of the folder you want to delete as it appears in the file explorer\n",
    "shutil.rmtree(folder_path) \n",
    "print('folder deletion complete')"
   ]
  },
  {
   "cell_type": "code",
   "execution_count": null,
   "metadata": {},
   "outputs": [],
   "source": [
    "# unzip folder\n",
    "import zipfile as zf\n",
    "files = zf.ZipFile('./nerf/data/nerf_llff_data/fern.zip', 'r')\n",
    "files.extractall('./nerf/data/nerf_llff_data')\n",
    "files.close()\n",
    "print('unzip complete')"
   ]
  },
  {
   "cell_type": "code",
   "execution_count": null,
   "metadata": {},
   "outputs": [],
   "source": [
    "# duplicate folder (useful if it's a large folder since they sometimes cause errors within jupyter)\n",
    "import shutil\n",
    "new_folder_path = './nerf/data/lbx/sl2'\n",
    "src_folder_path = './SL2'\n",
    "shutil.copytree(src_folder_path, new_folder_path)\n",
    "print('folder duplication complete')"
   ]
  }
 ],
 "metadata": {
  "kernelspec": {
   "display_name": "Custom (NERF)",
   "language": "python",
   "name": "nerf"
  },
  "language_info": {
   "codemirror_mode": {
    "name": "ipython",
    "version": 3
   },
   "file_extension": ".py",
   "mimetype": "text/x-python",
   "name": "python",
   "nbconvert_exporter": "python",
   "pygments_lexer": "ipython3",
   "version": "3.7.9"
  }
 },
 "nbformat": 4,
 "nbformat_minor": 4
}
