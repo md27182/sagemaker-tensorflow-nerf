{
 "cells": [
  {
   "cell_type": "code",
   "execution_count": 1,
   "metadata": {
    "scrolled": true
   },
   "outputs": [],
   "source": [
    "import sys\n",
    "import traceback\n",
    "\n",
    "sys.path.insert(1, '/home/ec2-user/SageMaker/lbx-nerf')\n",
    "import run_nerf"
   ]
  },
  {
   "cell_type": "code",
   "execution_count": 2,
   "metadata": {},
   "outputs": [
    {
     "name": "stdout",
     "output_type": "stream",
     "text": [
      "--config /home/ec2-user/SageMaker/lbx-nerf/config_temp.txt --no_ndc --lindisp --spherify --no_batching --i_img 10000 --factor 2 --i_testset 500000 --i_video 200000 --num_iters 50000 --render_factor 4 --precrop_frac 0.4 --precrop_iters 200000\n"
     ]
    }
   ],
   "source": [
    "num_iters = 50000\n",
    "args = ['--config', '/home/ec2-user/SageMaker/lbx-nerf/config_temp.txt', \n",
    "        '--no_ndc', \n",
    "        '--lindisp', \n",
    "        '--spherify', \n",
    "        '--no_batching', \n",
    "        '--i_img', '10000', \n",
    "        '--factor', '2',\n",
    "        '--i_testset', '500000',\n",
    "        '--i_video', '200000',\n",
    "        '--num_iters', str(num_iters),\n",
    "        '--render_factor', '4',\n",
    "        '--precrop_frac', '0.4', \n",
    "        '--precrop_iters', '200000']\n",
    "print(' '.join(args))"
   ]
  },
  {
   "cell_type": "code",
   "execution_count": null,
   "metadata": {},
   "outputs": [
    {
     "name": "stdout",
     "output_type": "stream",
     "text": [
      "MODEL 63 27 <class 'int'> <class 'int'> True\n",
      "(?, 90) (?, 63) (?, 27)\n",
      "MODEL 63 27 <class 'int'> <class 'int'> True\n",
      "(?, 90) (?, 63) (?, 27)\n",
      "Not ndc!\n",
      "Found ckpts ['/home/ec2-user/SageMaker/lbx-nerf/logs/sl2/model_000000.npy']\n",
      "Reloading from /home/ec2-user/SageMaker/lbx-nerf/logs/sl2/model_000000.npy\n",
      "Resetting step to 1\n",
      "Reloading fine from /home/ec2-user/SageMaker/lbx-nerf/logs/sl2/model_fine_000000.npy\n",
      "iterating from 1 to 50000\n"
     ]
    },
    {
     "name": "stderr",
     "output_type": "stream",
     "text": [
      " 52%|█████▏    | 371/712 [21:29<19:39,  3.46s/it]"
     ]
    }
   ],
   "source": [
    "for i in range(500000 // num_iters):\n",
    "    try:\n",
    "        run_nerf.train(args)\n",
    "    except:\n",
    "        print(\"Unexpected error:\", sys.exc_info()[0])\n",
    "        traceback.print_exc()\n",
    "        break"
   ]
  }
 ],
 "metadata": {
  "kernelspec": {
   "display_name": "Custom (nerf)",
   "language": "python",
   "name": "nerf"
  },
  "language_info": {
   "codemirror_mode": {
    "name": "ipython",
    "version": 3
   },
   "file_extension": ".py",
   "mimetype": "text/x-python",
   "name": "python",
   "nbconvert_exporter": "python",
   "pygments_lexer": "ipython3",
   "version": "3.7.9"
  }
 },
 "nbformat": 4,
 "nbformat_minor": 4
}
