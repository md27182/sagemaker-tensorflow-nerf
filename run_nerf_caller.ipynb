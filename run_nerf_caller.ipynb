{
 "cells": [
  {
   "cell_type": "code",
   "execution_count": 1,
   "metadata": {
    "scrolled": true
   },
   "outputs": [],
   "source": [
    "import sys\n",
    "import traceback\n",
    "\n",
    "sys.path.insert(1, '/home/ec2-user/SageMaker/lbx-nerf')\n",
    "import run_nerf"
   ]
  },
  {
   "cell_type": "code",
   "execution_count": 2,
   "metadata": {},
   "outputs": [
    {
     "name": "stdout",
     "output_type": "stream",
     "text": [
      "--config /home/ec2-user/SageMaker/lbx-nerf/config_temp.txt --no_ndc --lindisp --spherify --no_batching --i_img 10000 --factor 2 --i_testset 500000 --i_video 200000 --render_factor 4 --train_until\n"
     ]
    }
   ],
   "source": [
    "iters_per_run = 50000\n",
    "args = ['--config', '/home/ec2-user/SageMaker/lbx-nerf/config_temp.txt', \n",
    "        '--no_ndc', \n",
    "        '--lindisp', \n",
    "        '--spherify', \n",
    "        '--no_batching', \n",
    "        '--i_img', '10000',\n",
    "        '--factor', '2',\n",
    "        '--i_testset', '500000',\n",
    "        '--i_video', '200000',\n",
    "        '--render_factor', '4',\n",
    "        '--train_until']\n",
    "print(' '.join(args))"
   ]
  },
  {
   "cell_type": "code",
   "execution_count": null,
   "metadata": {},
   "outputs": [
    {
     "name": "stdout",
     "output_type": "stream",
     "text": [
      "MODEL 63 27 <class 'int'> <class 'int'> True\n",
      "(?, 90) (?, 63) (?, 27)\n",
      "MODEL 63 27 <class 'int'> <class 'int'> True\n",
      "(?, 90) (?, 63) (?, 27)\n",
      "Not ndc!\n",
      "Found ckpts ['/home/ec2-user/SageMaker/lbx-nerf/logs/hat/model_000000.npy']\n",
      "Reloading from /home/ec2-user/SageMaker/lbx-nerf/logs/hat/model_000000.npy\n",
      "Resetting step to 1\n",
      "Reloading fine from /home/ec2-user/SageMaker/lbx-nerf/logs/hat/model_fine_000000.npy\n",
      "iterating from 1 to 50000\n"
     ]
    },
    {
     "name": "stderr",
     "output_type": "stream",
     "text": [
      "100%|██████████| 324/324 [37:32<00:00,  6.95s/it]"
     ]
    },
    {
     "name": "stdout",
     "output_type": "stream",
     "text": [
      "Loaded image data (2000, 3000, 3, 324) [2000.         3000.         3544.25686081]\n",
      "Loaded /home/ec2-user/SageMaker/lbx-nerf/data/lbx/hat 21.800809512340578 97.29814841092947\n",
      "Data:\n",
      "(324, 3, 5) (324, 2000, 3000, 3) (324, 2000, 3000, 3) (324, 2)\n",
      "HOLDOUT view is 35\n",
      "[lbx_debug]--> hwf 2000.0 3000.0 3544.2568\n",
      "Loaded llff (324, 2000, 3000, 3) (120, 3, 5) [2000.     3000.     3544.2568] /home/ec2-user/SageMaker/lbx-nerf/data/lbx/hat\n",
      "Auto LLFF holdout, 8\n",
      "DEFINING BOUNDS\n",
      "NEAR FAR tf.Tensor(0.36531985, shape=(), dtype=float32) tf.Tensor(1.8116018, shape=(), dtype=float32)\n",
      "Begin\n",
      "TRAIN views are [  1   2   3   4   5   6   7   9  10  11  12  13  14  15  17  18  19  20\n",
      "  21  22  23  25  26  27  28  29  30  31  33  34  35  36  37  38  39  41\n",
      "  42  43  44  45  46  47  49  50  51  52  53  54  55  57  58  59  60  61\n",
      "  62  63  65  66  67  68  69  70  71  73  74  75  76  77  78  79  81  82\n",
      "  83  84  85  86  87  89  90  91  92  93  94  95  97  98  99 100 101 102\n",
      " 103 105 106 107 108 109 110 111 113 114 115 116 117 118 119 121 122 123\n",
      " 124 125 126 127 129 130 131 132 133 134 135 137 138 139 140 141 142 143\n",
      " 145 146 147 148 149 150 151 153 154 155 156 157 158 159 161 162 163 164\n",
      " 165 166 167 169 170 171 172 173 174 175 177 178 179 180 181 182 183 185\n",
      " 186 187 188 189 190 191 193 194 195 196 197 198 199 201 202 203 204 205\n",
      " 206 207 209 210 211 212 213 214 215 217 218 219 220 221 222 223 225 226\n",
      " 227 228 229 230 231 233 234 235 236 237 238 239 241 242 243 244 245 246\n",
      " 247 249 250 251 252 253 254 255 257 258 259 260 261 262 263 265 266 267\n",
      " 268 269 270 271 273 274 275 276 277 278 279 281 282 283 284 285 286 287\n",
      " 289 290 291 292 293 294 295 297 298 299 300 301 302 303 305 306 307 308\n",
      " 309 310 311 313 314 315 316 317 318 319 321 322 323]\n",
      "TEST views are [  0   8  16  24  32  40  48  56  64  72  80  88  96 104 112 120 128 136\n",
      " 144 152 160 168 176 184 192 200 208 216 224 232 240 248 256 264 272 280\n",
      " 288 296 304 312 320]\n",
      "VAL views are [  0   8  16  24  32  40  48  56  64  72  80  88  96 104 112 120 128 136\n",
      " 144 152 160 168 176 184 192 200 208 216 224 232 240 248 256 264 272 280\n",
      " 288 296 304 312 320]\n",
      "WARNING:tensorflow:\n",
      "The TensorFlow contrib module will not be included in TensorFlow 2.0.\n",
      "For more information, please see:\n",
      "  * https://github.com/tensorflow/community/blob/master/rfcs/20180907-contrib-sunset.md\n",
      "  * https://github.com/tensorflow/addons\n",
      "  * https://github.com/tensorflow/io (for I/O related ops)\n",
      "If you depend on functionality not listed there, please file an issue.\n",
      "\n"
     ]
    },
    {
     "name": "stderr",
     "output_type": "stream",
     "text": [
      "\n"
     ]
    },
    {
     "name": "stdout",
     "output_type": "stream",
     "text": [
      "WARNING:tensorflow:From /home/ec2-user/SageMaker/lbx-nerf/run_nerf_helpers.py:209: where (from tensorflow.python.ops.array_ops) is deprecated and will be removed in a future version.\n",
      "Instructions for updating:\n",
      "Use tf.where in 2.0, which has the same broadcast rule as np.where\n",
      "WARNING:tensorflow:From /home/ec2-user/SageMaker/lbx-nerf/run_nerf_helpers.py:14: The name tf.log is deprecated. Please use tf.math.log instead.\n",
      "\n",
      "hat 1 14.709055 0.08029111 1\n",
      "iter time 2.57125\n",
      "hat 2 16.182343 0.05399798 2\n",
      "iter time 1.85965\n",
      "hat 3 15.859479 0.05356054 3\n",
      "iter time 1.91072\n",
      "hat 4 17.27263 0.03863283 4\n",
      "iter time 1.85035\n",
      "hat 5 15.98114 0.045667388 5\n",
      "iter time 1.79758\n",
      "hat 6 16.64222 0.04210426 6\n",
      "iter time 1.84283\n",
      "hat 7 17.248514 0.036635198 7\n",
      "iter time 1.87636\n",
      "hat 8 19.473469 0.021128297 8\n",
      "iter time 1.83473\n",
      "hat 9 20.602623 0.014516012 9\n",
      "iter time 1.80809\n",
      "hat 100 28.677094 0.0030001039 100\n",
      "iter time 1.92057\n",
      "hat 200 26.167904 0.0051202504 200\n",
      "iter time 1.92145\n",
      "hat 300 22.904972 0.010220857 300\n",
      "iter time 1.88338\n",
      "hat 400 22.329145 0.012329871 400\n",
      "iter time 1.79794\n",
      "hat 500 33.50858 0.0009387794 500\n",
      "iter time 1.86392\n",
      "hat 600 35.68815 0.0007797157 600\n",
      "iter time 1.81624\n",
      "hat 700 24.032154 0.0076157413 700\n",
      "iter time 1.81789\n",
      "hat 800 27.0257 0.0040951963 800\n",
      "iter time 1.83605\n",
      "hat 900 33.608738 0.0010392282 900\n",
      "iter time 1.81583\n",
      "hat 1000 32.886635 0.001252223 1000\n",
      "iter time 1.80127\n",
      "hat 1100 31.420528 0.0014392015 1100\n",
      "iter time 1.82361\n",
      "hat 1200 31.557137 0.001471265 1200\n",
      "iter time 1.82953\n"
     ]
    }
   ],
   "source": [
    "train_until = iters_per_run\n",
    "while train_until <= 500000:\n",
    "    try:\n",
    "        run_nerf.train(args + [str(train_until)])\n",
    "        train_until += iters_per_run\n",
    "    except:\n",
    "        print(\"Unexpected error:\", sys.exc_info()[0])\n",
    "        traceback.print_exc()\n",
    "        break"
   ]
  }
 ],
 "metadata": {
  "kernelspec": {
   "display_name": "Custom (nerf)",
   "language": "python",
   "name": "nerf"
  },
  "language_info": {
   "codemirror_mode": {
    "name": "ipython",
    "version": 3
   },
   "file_extension": ".py",
   "mimetype": "text/x-python",
   "name": "python",
   "nbconvert_exporter": "python",
   "pygments_lexer": "ipython3",
   "version": "3.7.9"
  }
 },
 "nbformat": 4,
 "nbformat_minor": 4
}
