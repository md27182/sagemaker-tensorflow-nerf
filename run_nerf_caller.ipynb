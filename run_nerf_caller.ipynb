{
 "cells": [
  {
   "cell_type": "code",
   "execution_count": 5,
   "metadata": {
    "scrolled": true
   },
   "outputs": [],
   "source": [
    "import sys\n",
    "import traceback\n",
    "\n",
    "sys.path.insert(1, '/home/ec2-user/SageMaker/lbx-nerf')\n",
    "import run_nerf"
   ]
  },
  {
   "cell_type": "code",
   "execution_count": 6,
   "metadata": {},
   "outputs": [
    {
     "name": "stdout",
     "output_type": "stream",
     "text": [
      "--config /home/ec2-user/SageMaker/lbx-nerf/config_temp.txt --no_ndc --lindisp --spherify --no_batching --i_img 10000 --factor 2 --render_factor 4 --precrop_frac 0.4 --precrop_iters 200000\n"
     ]
    }
   ],
   "source": [
    "args = ['--config', '/home/ec2-user/SageMaker/lbx-nerf/config_temp.txt', \n",
    "        '--no_ndc', \n",
    "        '--lindisp', \n",
    "        '--spherify', \n",
    "        '--no_batching', \n",
    "        '--i_img', '10000', \n",
    "        '--factor', '2',\n",
    "        '--i_testset', '500000',\n",
    "        '--i_video', '200000',\n",
    "        '--render_factor', '4',\n",
    "        '--precrop_frac', '0.4', \n",
    "        '--precrop_iters', '200000']\n",
    "print(' '.join(args))"
   ]
  },
  {
   "cell_type": "code",
   "execution_count": 8,
   "metadata": {},
   "outputs": [
    {
     "name": "stderr",
     "output_type": "stream",
     "text": [
      "  4%|▍         | 30/712 [01:40<38:04,  3.35s/it] \n",
      "Traceback (most recent call last):\n",
      "  File \"<ipython-input-8-abc29f10aca4>\", line 3, in <module>\n",
      "    run_nerf.train(args)\n",
      "  File \"/home/ec2-user/SageMaker/lbx-nerf/run_nerf.py\", line 595, in train\n",
      "    images, poses, bds, render_poses, i_test, fxfycxcy = load_llff_data(args.datadir, args.factor, recenter=True, spherify=args.spherify, subset_size=subset_size) # removed bd_factor=.75, added subset_size parameter\n",
      "  File \"/home/ec2-user/SageMaker/lbx-nerf/load_llff.py\", line 266, in load_llff_data\n",
      "    poses, bds, imgs, fxfycxcy = _load_data(basedir, factor=factor, subset_size=subset_size) # factor=8 downsamples original imgs by 8x\n",
      "  File \"/home/ec2-user/SageMaker/lbx-nerf/load_llff.py\", line 132, in _load_data\n",
      "    imgs[...,i] = (imread(f)[...,:3]).reshape(sh[0], factor, sh[1], factor, 3).mean(3).mean(1).astype(np.uint8)\n",
      "  File \"/home/ec2-user/SageMaker/custom-miniconda/miniconda/envs/nerf/lib/python3.7/site-packages/numpy/core/_methods.py\", line 178, in _mean\n",
      "    ret = umr_sum(arr, axis, dtype, out, keepdims, where=where)\n",
      "  File \"/home/ec2-user/SageMaker/custom-miniconda/miniconda/envs/nerf/lib/python3.7/site-packages/imageio/core/util.py\", line 160, in __array_wrap__\n",
      "    def __array_wrap__(self, out, context=None):\n",
      "KeyboardInterrupt\n"
     ]
    },
    {
     "name": "stdout",
     "output_type": "stream",
     "text": [
      "Unexpected error: <class 'KeyboardInterrupt'>\n"
     ]
    }
   ],
   "source": [
    "for i in range(500 // 50):\n",
    "    try:\n",
    "        run_nerf.train(args)\n",
    "    except:\n",
    "        print(\"Unexpected error:\", sys.exc_info()[0])\n",
    "        traceback.print_exc()\n",
    "        break"
   ]
  }
 ],
 "metadata": {
  "kernelspec": {
   "display_name": "Custom (nerf)",
   "language": "python",
   "name": "nerf"
  },
  "language_info": {
   "codemirror_mode": {
    "name": "ipython",
    "version": 3
   },
   "file_extension": ".py",
   "mimetype": "text/x-python",
   "name": "python",
   "nbconvert_exporter": "python",
   "pygments_lexer": "ipython3",
   "version": "3.7.9"
  }
 },
 "nbformat": 4,
 "nbformat_minor": 4
}
