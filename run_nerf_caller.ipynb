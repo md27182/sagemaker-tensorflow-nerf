{
 "cells": [
  {
   "cell_type": "code",
   "execution_count": 2,
   "metadata": {},
   "outputs": [
    {
     "name": "stdout",
     "output_type": "stream",
     "text": [
      "--config /home/ec2-user/SageMaker/lbx-nerf/config_temp.txt --no_ndc --lindisp --spherify --no_batching --precrop_frac 0.35 --precrop_iters 200000\n"
     ]
    }
   ],
   "source": [
    "import sys\n",
    "import traceback\n",
    "\n",
    "sys.path.insert(1, '/home/ec2-user/SageMaker/lbx-nerf')\n",
    "import run_nerf\n",
    "\n",
    "args = ['--config', '/home/ec2-user/SageMaker/lbx-nerf/config_temp.txt', '--no_ndc', '--lindisp', '--spherify',\n",
    "        '--no_batching', '--precrop_frac', '0.35', '--precrop_iters', '200000']\n",
    "print(' '.join(args))"
   ]
  },
  {
   "cell_type": "code",
   "execution_count": null,
   "metadata": {},
   "outputs": [],
   "source": [
    "while True:\n",
    "    try:\n",
    "        run_nerf.train(args)\n",
    "    except:\n",
    "        print(\"Unexpected error:\", sys.exc_info()[0])\n",
    "        traceback.print_exc()\n",
    "        break"
   ]
  }
 ],
 "metadata": {
  "kernelspec": {
   "display_name": "Custom (nerf)",
   "language": "python",
   "name": "nerf"
  },
  "language_info": {
   "codemirror_mode": {
    "name": "ipython",
    "version": 3
   },
   "file_extension": ".py",
   "mimetype": "text/x-python",
   "name": "python",
   "nbconvert_exporter": "python",
   "pygments_lexer": "ipython3",
   "version": "3.7.9"
  }
 },
 "nbformat": 4,
 "nbformat_minor": 4
}
