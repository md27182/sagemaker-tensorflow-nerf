{
 "cells": [
  {
   "cell_type": "code",
   "execution_count": 1,
   "metadata": {
    "scrolled": true
   },
   "outputs": [
    {
     "name": "stdout",
     "output_type": "stream",
     "text": [
      "--config /home/ec2-user/SageMaker/lbx-nerf/config_temp.txt --no_ndc --lindisp --spherify --no_batching --i_img 100 --precrop_frac 0.35 --precrop_iters 200000\n"
     ]
    }
   ],
   "source": [
    "import sys\n",
    "import traceback\n",
    "\n",
    "sys.path.insert(1, '/home/ec2-user/SageMaker/lbx-nerf')\n",
    "import run_nerf\n",
    "\n",
    "args = ['--config', '/home/ec2-user/SageMaker/lbx-nerf/config_temp.txt', \n",
    "        '--no_ndc', \n",
    "        '--lindisp', \n",
    "        '--spherify', \n",
    "        '--no_batching', \n",
    "        '--i_img', '100', \n",
    "        '--precrop_frac', '0.35', \n",
    "        '--precrop_iters', '200000']\n",
    "print(' '.join(args))"
   ]
  },
  {
   "cell_type": "code",
   "execution_count": 2,
   "metadata": {},
   "outputs": [
    {
     "name": "stdout",
     "output_type": "stream",
     "text": [
      "Mismatch between imgs 267 and poses 712 !!!!\n",
      "Unexpected error: <class 'TypeError'>\n"
     ]
    },
    {
     "name": "stderr",
     "output_type": "stream",
     "text": [
      "Traceback (most recent call last):\n",
      "  File \"<ipython-input-2-289ed3c3f864>\", line 3, in <module>\n",
      "    run_nerf.train(args)\n",
      "  File \"/home/ec2-user/SageMaker/lbx-nerf/run_nerf.py\", line 590, in train\n",
      "    spherify=args.spherify) # removed bd_factor=.75\n",
      "  File \"/home/ec2-user/SageMaker/lbx-nerf/load_llff.py\", line 246, in load_llff_data\n",
      "    poses, bds, imgs = _load_data(basedir, factor=factor) # factor=8 downsamples original imgs by 8x\n",
      "TypeError: cannot unpack non-iterable NoneType object\n"
     ]
    }
   ],
   "source": [
    "while True:\n",
    "    try:\n",
    "        run_nerf.train(args)\n",
    "    except:\n",
    "        print(\"Unexpected error:\", sys.exc_info()[0])\n",
    "        traceback.print_exc()\n",
    "        break"
   ]
  }
 ],
 "metadata": {
  "kernelspec": {
   "display_name": "Custom (nerf)",
   "language": "python",
   "name": "nerf"
  },
  "language_info": {
   "codemirror_mode": {
    "name": "ipython",
    "version": 3
   },
   "file_extension": ".py",
   "mimetype": "text/x-python",
   "name": "python",
   "nbconvert_exporter": "python",
   "pygments_lexer": "ipython3",
   "version": "3.7.9"
  }
 },
 "nbformat": 4,
 "nbformat_minor": 4
}
