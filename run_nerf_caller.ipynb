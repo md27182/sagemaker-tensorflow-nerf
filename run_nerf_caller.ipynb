{
 "cells": [
  {
   "cell_type": "code",
   "execution_count": 1,
   "metadata": {
    "scrolled": true
   },
   "outputs": [],
   "source": [
    "import sys\n",
    "import traceback\n",
    "\n",
    "sys.path.insert(1, '/home/ec2-user/SageMaker/lbx-nerf')\n",
    "import run_nerf"
   ]
  },
  {
   "cell_type": "code",
   "execution_count": 2,
   "metadata": {},
   "outputs": [
    {
     "name": "stdout",
     "output_type": "stream",
     "text": [
      "--config /home/ec2-user/SageMaker/lbx-nerf/config_temp.txt --no_ndc --lindisp --spherify --no_batching --i_img 10000 --factor 2 --i_testset 500000 --i_video 200000 --render_factor 4 --train_until\n"
     ]
    }
   ],
   "source": [
    "iters_per_run = 50000\n",
    "args = ['--config', '/home/ec2-user/SageMaker/lbx-nerf/config_temp.txt', \n",
    "        '--no_ndc', \n",
    "        '--lindisp', \n",
    "        '--spherify', \n",
    "        '--no_batching', \n",
    "        '--i_img', '10000',\n",
    "        '--factor', '2',\n",
    "        '--i_testset', '500000',\n",
    "        '--i_video', '200000',\n",
    "        '--render_factor', '4',\n",
    "        '--train_until']\n",
    "print(' '.join(args))"
   ]
  },
  {
   "cell_type": "code",
   "execution_count": null,
   "metadata": {},
   "outputs": [
    {
     "name": "stdout",
     "output_type": "stream",
     "text": [
      "MODEL 63 27 <class 'int'> <class 'int'> True\n",
      "(?, 90) (?, 63) (?, 27)\n",
      "MODEL 63 27 <class 'int'> <class 'int'> True\n",
      "(?, 90) (?, 63) (?, 27)\n",
      "Not ndc!\n",
      "Found ckpts []\n",
      "iterating from 0 to 50000\n"
     ]
    },
    {
     "name": "stderr",
     "output_type": "stream",
     "text": [
      "  0%|          | 1/324 [00:12<1:08:43, 12.77s/it]"
     ]
    }
   ],
   "source": [
    "train_until = iters_per_run\n",
    "while train_until <= 500000:\n",
    "    try:\n",
    "        run_nerf.train(args + [str(train_until)])\n",
    "        train_until += iters_per_run\n",
    "    except:\n",
    "        print(\"Unexpected error:\", sys.exc_info()[0])\n",
    "        traceback.print_exc()\n",
    "        break"
   ]
  }
 ],
 "metadata": {
  "kernelspec": {
   "display_name": "Custom (nerf)",
   "language": "python",
   "name": "nerf"
  },
  "language_info": {
   "codemirror_mode": {
    "name": "ipython",
    "version": 3
   },
   "file_extension": ".py",
   "mimetype": "text/x-python",
   "name": "python",
   "nbconvert_exporter": "python",
   "pygments_lexer": "ipython3",
   "version": "3.7.9"
  }
 },
 "nbformat": 4,
 "nbformat_minor": 4
}
