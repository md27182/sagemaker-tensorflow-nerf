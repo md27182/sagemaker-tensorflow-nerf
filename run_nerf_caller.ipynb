{
 "cells": [
  {
   "cell_type": "code",
   "execution_count": null,
   "metadata": {},
   "outputs": [],
   "source": [
    "import sys\n",
    "\n",
    "sys.path.insert(1, '~/SageMaker/lbx-nerf')\n",
    "import run_nerf\n",
    "\n",
    "args = ['--config', 'config_temp.txt', '--no_ndc', '--lindisp', '--spherify', '--precrop_frac', \n",
    "        '0.1', '--precrop_iters', '200000']\n",
    "while true:\n",
    "    try:\n",
    "        run_nerf.train(args)\n",
    "    except:\n",
    "        print(\"Unexpected error:\", sys.exc_info()[0])"
   ]
  }
 ],
 "metadata": {
  "kernelspec": {
   "display_name": "Custom (NERF)",
   "language": "python",
   "name": "nerf"
  },
  "language_info": {
   "codemirror_mode": {
    "name": "ipython",
    "version": 3
   },
   "file_extension": ".py",
   "mimetype": "text/x-python",
   "name": "python",
   "nbconvert_exporter": "python",
   "pygments_lexer": "ipython3",
   "version": "3.7.9"
  }
 },
 "nbformat": 4,
 "nbformat_minor": 4
}
