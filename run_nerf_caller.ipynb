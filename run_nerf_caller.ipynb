{
 "cells": [
  {
   "cell_type": "code",
   "execution_count": 1,
   "metadata": {
    "scrolled": true
   },
   "outputs": [],
   "source": [
    "import sys\n",
    "import traceback\n",
    "\n",
    "sys.path.insert(1, '/home/ec2-user/SageMaker/lbx-nerf')\n",
    "import run_nerf"
   ]
  },
  {
   "cell_type": "code",
   "execution_count": 2,
   "metadata": {},
   "outputs": [
    {
     "name": "stdout",
     "output_type": "stream",
     "text": [
      "--config /home/ec2-user/SageMaker/lbx-nerf/config_temp.txt --no_ndc --lindisp --spherify --no_batching --i_img 10000 --factor 2 --i_testset 500000 --i_video 200000 --render_factor 4 --train_until\n"
     ]
    }
   ],
   "source": [
    "iters_per_run = 50000\n",
    "args = ['--config', '/home/ec2-user/SageMaker/lbx-nerf/config_temp.txt', \n",
    "        '--no_ndc', \n",
    "        '--lindisp', \n",
    "        '--spherify', \n",
    "        '--no_batching', \n",
    "        '--i_img', '10000',\n",
    "        '--factor', '2',\n",
    "        '--i_testset', '500000',\n",
    "        '--i_video', '200000',\n",
    "        '--render_factor', '4',\n",
    "        '--train_until']\n",
    "print(' '.join(args))"
   ]
  },
  {
   "cell_type": "code",
   "execution_count": 3,
   "metadata": {},
   "outputs": [
    {
     "name": "stdout",
     "output_type": "stream",
     "text": [
      "MODEL 63 27 <class 'int'> <class 'int'> True\n",
      "(?, 90) (?, 63) (?, 27)\n",
      "MODEL 63 27 <class 'int'> <class 'int'> True\n",
      "(?, 90) (?, 63) (?, 27)\n",
      "Not ndc!\n",
      "Found ckpts []\n",
      "iterating from 0 to 50000\n",
      "Unexpected error: <class 'FileNotFoundError'>\n"
     ]
    },
    {
     "name": "stderr",
     "output_type": "stream",
     "text": [
      "Traceback (most recent call last):\n",
      "  File \"<ipython-input-3-0695a7a82013>\", line 4, in <module>\n",
      "    run_nerf.train(args + [str(train_until)])\n",
      "  File \"/home/ec2-user/SageMaker/lbx-nerf/run_nerf.py\", line 628, in train\n",
      "    images, poses, bds, render_poses, i_test, fxfycxcy, bg_images = load_llff_data(args.datadir, args.factor, recenter=True, spherify=args.spherify, subset_size=subset_size, bgimgdir=args.bgimgdir) # removed bd_factor=.75, added subset_size parameter\n",
      "  File \"/home/ec2-user/SageMaker/lbx-nerf/load_llff.py\", line 286, in load_llff_data\n",
      "    poses, bds, imgs, fxfycxcy, bgs = _load_data(basedir, factor=factor, subset_size=subset_size, bgimgdir=bgimgdir) # factor=8 downsamples original imgs by 8x\n",
      "  File \"/home/ec2-user/SageMaker/lbx-nerf/load_llff.py\", line 87, in _load_data\n",
      "    bgimgfiles = [os.path.join(bgimgdir, f) for f in sorted(os.listdir(bgimgdir)) if f.endswith('JPG') or f.endswith('jpg') or f.endswith('png')]\n",
      "FileNotFoundError: [Errno 2] No such file or directory: '/home/ec2-user/SageMaker/lbx-nerf/data/lbx/bg001/images'\n"
     ]
    }
   ],
   "source": [
    "train_until = iters_per_run\n",
    "while train_until <= 500000:\n",
    "    try:\n",
    "        run_nerf.train(args + [str(train_until)])\n",
    "        train_until += iters_per_run\n",
    "    except:\n",
    "        print(\"Unexpected error:\", sys.exc_info()[0])\n",
    "        traceback.print_exc()\n",
    "        break"
   ]
  }
 ],
 "metadata": {
  "kernelspec": {
   "display_name": "Custom (NERF)",
   "language": "python",
   "name": "nerf"
  },
  "language_info": {
   "codemirror_mode": {
    "name": "ipython",
    "version": 3
   },
   "file_extension": ".py",
   "mimetype": "text/x-python",
   "name": "python",
   "nbconvert_exporter": "python",
   "pygments_lexer": "ipython3",
   "version": "3.7.9"
  }
 },
 "nbformat": 4,
 "nbformat_minor": 4
}
