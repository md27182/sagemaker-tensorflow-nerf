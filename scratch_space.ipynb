{
 "cells": [
  {
   "cell_type": "markdown",
   "metadata": {},
   "source": [
    "### View camera intrinsic"
   ]
  },
  {
   "cell_type": "code",
   "execution_count": 1,
   "metadata": {},
   "outputs": [
    {
     "name": "stdout",
     "output_type": "stream",
     "text": [
      "Intrinsics have shape: (27, 3, 3)\n",
      "Extrinsics have shape: (3240, 4, 4)\n",
      "Locations have shape: (3240, 3)\n",
      "[[7.91104990e+03 0.00000000e+00 2.92599093e+03]\n",
      " [0.00000000e+00 7.91196350e+03 2.00598039e+03]\n",
      " [0.00000000e+00 0.00000000e+00 1.00000000e+00]]\n"
     ]
    }
   ],
   "source": [
    "import numpy as np\n",
    "\n",
    "row = 11\n",
    "dataset_name = 'sl2'\n",
    "\n",
    "dataset_path = '/home/ec2-user/SageMaker/raw_data/' + dataset_name + '/'\n",
    "base_path = dataset_path + 'calibration_data/'\n",
    "\n",
    "intrinsics = np.load(base_path + 'cam_mtx_list.npy')#[:1]\n",
    "extrinsics = np.load(base_path + 'cam_extrinsics.npy')#[:1]\n",
    "locations = np.load(base_path + 'cam_locations.npy')#[:1]\n",
    "print(f'Intrinsics have shape: {intrinsics.shape}')\n",
    "print(f'Extrinsics have shape: {extrinsics.shape}')\n",
    "print(f'Locations have shape: {locations.shape}')\n",
    "\n",
    "# Eventually, we can do everything in a vectorized way, but for now, to make things simple,\n",
    "# lets break apart each matrix\n",
    "# intrinsics = [intr for intr in intrinsics]\n",
    "# extrinsics = [ext for ext in extrinsics]\n",
    "# locations = [loc for loc in locations]\n",
    "\n",
    "# cxy_list = []\n",
    "# for row in range(27):\n",
    "#     intr = intrinsics[row]\n",
    "#     cx = 3000 - int(intr[0,2])\n",
    "#     cy = 2000 - int(intr[1,2])\n",
    "#     cxy_list.append((cx,cy))\n",
    "# print('(cx,cy) values (rounded)\\n', cxy_list)\n",
    "print(intrinsics[0])\n"
   ]
  },
  {
   "cell_type": "code",
   "execution_count": 4,
   "metadata": {},
   "outputs": [
    {
     "name": "stdout",
     "output_type": "stream",
     "text": [
      "20.4 ms ± 295 µs per loop (mean ± std. dev. of 7 runs, 10 loops each)\n"
     ]
    }
   ],
   "source": [
    "import imageio\n",
    "import numpy as np\n",
    "import matplotlib.pyplot as plt\n",
    "img = imageio.imread(\"/home/ec2-user/SageMaker/raw_data/sl2/white/201030034508_0026_0119.jpg\")\n",
    "y = img.reshape((2000, 2, 3000, 2, 3)).mean(3).mean(1).astype(np.uint8)\n",
    "%timeit z = np.multiply((1./255), y, dtype=np.float32)\n",
    "# plt.imshow(y)\n",
    "# plt.show()\n"
   ]
  },
  {
   "cell_type": "code",
   "execution_count": 14,
   "metadata": {},
   "outputs": [
    {
     "name": "stdout",
     "output_type": "stream",
     "text": [
      "14.8 µs ± 77.8 ns per loop (mean ± std. dev. of 7 runs, 100000 loops each)\n"
     ]
    }
   ],
   "source": [
    "import numpy as np\n",
    "%timeit np.zeros((4000, 6000, 3, 500), dtype=np.uint8)"
   ]
  }
 ],
 "metadata": {
  "kernelspec": {
   "display_name": "Custom (nerf)",
   "language": "python",
   "name": "nerf"
  },
  "language_info": {
   "codemirror_mode": {
    "name": "ipython",
    "version": 3
   },
   "file_extension": ".py",
   "mimetype": "text/x-python",
   "name": "python",
   "nbconvert_exporter": "python",
   "pygments_lexer": "ipython3",
   "version": "3.7.9"
  }
 },
 "nbformat": 4,
 "nbformat_minor": 4
}
