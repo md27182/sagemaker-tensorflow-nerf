{
 "cells": [
  {
   "cell_type": "markdown",
   "metadata": {},
   "source": [
    "### View camera intrinsic"
   ]
  },
  {
   "cell_type": "code",
   "execution_count": 29,
   "metadata": {},
   "outputs": [
    {
     "name": "stdout",
     "output_type": "stream",
     "text": [
      "Intrinsics have shape: (27, 3, 3)\n",
      "Extrinsics have shape: (3240, 4, 4)\n",
      "Locations have shape: (3240, 3)\n",
      "[ 0.21293378  3.92246902 45.68725595]\n"
     ]
    }
   ],
   "source": [
    "import numpy as np\n",
    "\n",
    "row = 11\n",
    "dataset_name = 'sl2'\n",
    "\n",
    "dataset_path = '/home/ec2-user/SageMaker/raw_data/' + dataset_name + '/'\n",
    "base_path = dataset_path + 'calibration_data/'\n",
    "\n",
    "intrinsics = np.load(base_path + 'cam_mtx_list.npy')#[:1]\n",
    "extrinsics = np.load(base_path + 'cam_extrinsics.npy')#[:1]\n",
    "locations = np.load(base_path + 'cam_locations.npy')#[:1]\n",
    "print(f'Intrinsics have shape: {intrinsics.shape}')\n",
    "print(f'Extrinsics have shape: {extrinsics.shape}')\n",
    "print(f'Locations have shape: {locations.shape}')\n",
    "\n",
    "# Eventually, we can do everything in a vectorized way, but for now, to make things simple,\n",
    "# lets break apart each matrix\n",
    "# intrinsics = [intr for intr in intrinsics]\n",
    "# extrinsics = [ext for ext in extrinsics]\n",
    "# locations = [loc for loc in locations]\n",
    "\n",
    "# cxy_list = []\n",
    "# for row in range(27):\n",
    "#     intr = intrinsics[row]\n",
    "#     cx = 3000 - int(intr[0,2])\n",
    "#     cy = 2000 - int(intr[1,2])\n",
    "#     cxy_list.append((cx,cy))\n",
    "# print('(cx,cy) values (rounded)\\n', cxy_list)\n",
    "print(locations[3120])"
   ]
  }
 ],
 "metadata": {
  "kernelspec": {
   "display_name": "Custom (NERF)",
   "language": "python",
   "name": "nerf"
  },
  "language_info": {
   "codemirror_mode": {
    "name": "ipython",
    "version": 3
   },
   "file_extension": ".py",
   "mimetype": "text/x-python",
   "name": "python",
   "nbconvert_exporter": "python",
   "pygments_lexer": "ipython3",
   "version": "3.7.9"
  }
 },
 "nbformat": 4,
 "nbformat_minor": 4
}
